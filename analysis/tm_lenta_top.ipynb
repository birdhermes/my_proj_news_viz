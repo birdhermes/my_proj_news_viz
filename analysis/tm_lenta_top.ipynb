{
 "cells": [
  {
   "cell_type": "code",
   "execution_count": 45,
   "metadata": {},
   "outputs": [],
   "source": [
    "import numpy as np\n",
    "import pandas as pd\n",
    "import pymorphy2\n",
    "from razdel import tokenize"
   ]
  },
  {
   "cell_type": "code",
   "execution_count": 107,
   "metadata": {},
   "outputs": [],
   "source": [
    "import re\n",
    "from itertools import chain"
   ]
  },
  {
   "cell_type": "code",
   "execution_count": 3,
   "metadata": {},
   "outputs": [
    {
     "name": "stderr",
     "output_type": "stream",
     "text": [
      "[nltk_data] Downloading package stopwords to /home/midzay/nltk_data...\n",
      "[nltk_data]   Unzipping corpora/stopwords.zip.\n"
     ]
    },
    {
     "data": {
      "text/plain": [
       "True"
      ]
     },
     "execution_count": 3,
     "metadata": {},
     "output_type": "execute_result"
    }
   ],
   "source": [
    "import nltk\n",
    "nltk.download('stopwords')"
   ]
  },
  {
   "cell_type": "code",
   "execution_count": 38,
   "metadata": {},
   "outputs": [],
   "source": [
    "PATH ='/home/midzay/Mlerning/DATASET/proj_news_viz/small/'"
   ]
  },
  {
   "cell_type": "code",
   "execution_count": 4,
   "metadata": {},
   "outputs": [],
   "source": [
    "import string\n",
    "from nltk.corpus import stopwords"
   ]
  },
  {
   "cell_type": "code",
   "execution_count": 26,
   "metadata": {},
   "outputs": [],
   "source": [
    "stop_words = stopwords.words('russian')\n",
    "STOPLIST = set(stop_words)\n",
    "SYMBOLS = \" \".join(string.punctuation).split(\" \") + [\"-\", \"...\", \"”\", \"”\",\"«\",\"»\"]"
   ]
  },
  {
   "cell_type": "code",
   "execution_count": 34,
   "metadata": {},
   "outputs": [],
   "source": [
    "with open('../../../../nlp/preprocessing/stopwords.txt') as sw:\n",
    "    text =sw.read().splitlines()\n",
    "for t in text:\n",
    "    STOPLIST.add(t)"
   ]
  },
  {
   "cell_type": "code",
   "execution_count": 39,
   "metadata": {},
   "outputs": [],
   "source": [
    "data = pd.read_csv(PATH+'bivs SSR.csv.bz2')"
   ]
  },
  {
   "cell_type": "code",
   "execution_count": 41,
   "metadata": {},
   "outputs": [
    {
     "data": {
      "text/plain": [
       "(61056, 7)"
      ]
     },
     "execution_count": 41,
     "metadata": {},
     "output_type": "execute_result"
    }
   ],
   "source": [
    "data.shape"
   ]
  },
  {
   "cell_type": "code",
   "execution_count": 42,
   "metadata": {},
   "outputs": [],
   "source": [
    "morph = pymorphy2.MorphAnalyzer()"
   ]
  },
  {
   "cell_type": "code",
   "execution_count": 104,
   "metadata": {},
   "outputs": [],
   "source": [
    "def get_lemma(word):\n",
    "    global lemma_dict\n",
    "    \n",
    "    if word in lemma_dict:\n",
    "        lemma=lemma_dict[word]\n",
    "    else:\n",
    "        p=[item.normal_form for item in morph.parse(word) if 'Abbr' not in item.tag]\n",
    "            \n",
    "        if len(p)>0:\n",
    "            lemma = p[0]\n",
    "        else: lemma=word.lower()\n",
    "        lemma_dict[word]=lemma\n",
    "    return lemma\n",
    "\n",
    "def tokenizeText(text):\n",
    "    lemmas = []\n",
    "    tokens = list(_.text for _ in list(tokenize(text)))\n",
    "    for word in tokens:\n",
    "        lemmas.append(get_lemma(word))\n",
    "  \n",
    "    tokens = lemmas\n",
    "    tokens = [tok for tok in tokens if tok not in STOPLIST]\n",
    "    tokens = [tok for tok in tokens if tok not in SYMBOLS]\n",
    "    tokens = re.sub('[\\[\\]\\/:,\\'*?\"<>|]', '', str(tokens))\n",
    "    return tokens"
   ]
  },
  {
   "cell_type": "code",
   "execution_count": 105,
   "metadata": {},
   "outputs": [
    {
     "name": "stdout",
     "output_type": "stream",
     "text": [
      "CPU times: user 5min 11s, sys: 300 ms, total: 5min 12s\n",
      "Wall time: 5min 12s\n"
     ]
    }
   ],
   "source": [
    "%%time\n",
    "lemma_dict={}\n",
    "data['text_lema'] = data.text.apply(tokenizeText)"
   ]
  },
  {
   "cell_type": "code",
   "execution_count": 50,
   "metadata": {},
   "outputs": [],
   "source": [
    "data.to_csv(PATH+'lemma/biv_ssr.csv.bz2',compression='bz2', index=False)"
   ]
  },
  {
   "cell_type": "code",
   "execution_count": null,
   "metadata": {},
   "outputs": [],
   "source": []
  },
  {
   "cell_type": "code",
   "execution_count": 108,
   "metadata": {},
   "outputs": [],
   "source": [
    "X = data.text_lema"
   ]
  },
  {
   "cell_type": "code",
   "execution_count": 145,
   "metadata": {},
   "outputs": [],
   "source": [
    "def show_topics(vectorizer=vect, lda_model=doc_topic, n_words=15):\n",
    "    keywords = np.array(vectorizer.get_feature_names())\n",
    "    topic_keywords = []\n",
    "    for topic_weights in lda_model.components_:\n",
    "        top_keyword_locs = (-topic_weights).argsort()[:n_words]\n",
    "        topic_keywords.append(keywords.take(top_keyword_locs))\n",
    "    return topic_keywords"
   ]
  },
  {
   "cell_type": "code",
   "execution_count": 101,
   "metadata": {},
   "outputs": [],
   "source": [
    "from sklearn.feature_extraction.text import CountVectorizer"
   ]
  },
  {
   "cell_type": "code",
   "execution_count": 172,
   "metadata": {},
   "outputs": [
    {
     "name": "stdout",
     "output_type": "stream",
     "text": [
      "CPU times: user 13.5 s, sys: 364 ms, total: 13.9 s\n",
      "Wall time: 13.9 s\n"
     ]
    }
   ],
   "source": [
    "%%time\n",
    "#vect = CountVectorizer(min_df=20,ngram_range=(1,1))\n",
    "vect = CountVectorizer(min_df=20,ngram_range=(3,3))\n",
    "#X_vect_20 = vect.fit_transform(X[:1000])\n",
    "X_vect_40 = vect.fit_transform(X[:15000])"
   ]
  },
  {
   "cell_type": "code",
   "execution_count": 173,
   "metadata": {},
   "outputs": [
    {
     "data": {
      "text/plain": [
       "(15000, 1718)"
      ]
     },
     "execution_count": 173,
     "metadata": {},
     "output_type": "execute_result"
    }
   ],
   "source": [
    "X_vect_40.shape"
   ]
  },
  {
   "cell_type": "code",
   "execution_count": 116,
   "metadata": {},
   "outputs": [],
   "source": [
    "from sklearn.decomposition import LatentDirichletAllocation"
   ]
  },
  {
   "cell_type": "code",
   "execution_count": 174,
   "metadata": {},
   "outputs": [],
   "source": [
    "lda = LatentDirichletAllocation(n_components=10,learning_method='online',random_state=42)"
   ]
  },
  {
   "cell_type": "code",
   "execution_count": 175,
   "metadata": {},
   "outputs": [
    {
     "name": "stdout",
     "output_type": "stream",
     "text": [
      "CPU times: user 1min 33s, sys: 462 ms, total: 1min 33s\n",
      "Wall time: 34.5 s\n"
     ]
    }
   ],
   "source": [
    "%%time\n",
    "doc_topic = lda.fit_transform(X_vect_40)"
   ]
  },
  {
   "cell_type": "code",
   "execution_count": 176,
   "metadata": {},
   "outputs": [
    {
     "data": {
      "text/html": [
       "<div>\n",
       "<style scoped>\n",
       "    .dataframe tbody tr th:only-of-type {\n",
       "        vertical-align: middle;\n",
       "    }\n",
       "\n",
       "    .dataframe tbody tr th {\n",
       "        vertical-align: top;\n",
       "    }\n",
       "\n",
       "    .dataframe thead th {\n",
       "        text-align: right;\n",
       "    }\n",
       "</style>\n",
       "<table border=\"1\" class=\"dataframe\">\n",
       "  <thead>\n",
       "    <tr style=\"text-align: right;\">\n",
       "      <th></th>\n",
       "      <th>Word 0</th>\n",
       "      <th>Word 1</th>\n",
       "      <th>Word 2</th>\n",
       "      <th>Word 3</th>\n",
       "      <th>Word 4</th>\n",
       "      <th>Word 5</th>\n",
       "      <th>Word 6</th>\n",
       "      <th>Word 7</th>\n",
       "      <th>Word 8</th>\n",
       "      <th>Word 9</th>\n",
       "    </tr>\n",
       "  </thead>\n",
       "  <tbody>\n",
       "    <tr>\n",
       "      <th>Topic 0</th>\n",
       "      <td>блок юлия тимошенко</td>\n",
       "      <td>депутат верховный рад</td>\n",
       "      <td>возбудить уголовный дело</td>\n",
       "      <td>премьер министр украина</td>\n",
       "      <td>президент украина леонид</td>\n",
       "      <td>украина леонид кучма</td>\n",
       "      <td>журналист георгий гонгадзе</td>\n",
       "      <td>уголовный дело факт</td>\n",
       "      <td>премьер министр страна</td>\n",
       "      <td>верховный рад украина</td>\n",
       "    </tr>\n",
       "    <tr>\n",
       "      <th>Topic 1</th>\n",
       "      <td>грузия эдуард шеварднадзе</td>\n",
       "      <td>иа новости грузия</td>\n",
       "      <td>агентство итар тасс</td>\n",
       "      <td>президент грузия эдуард</td>\n",
       "      <td>сообщать иа новости</td>\n",
       "      <td>исполнять обязанность президент</td>\n",
       "      <td>суд право человек</td>\n",
       "      <td>доллар тысяча кубометр</td>\n",
       "      <td>пресс служба президент</td>\n",
       "      <td>европейский суд право</td>\n",
       "    </tr>\n",
       "    <tr>\n",
       "      <th>Topic 2</th>\n",
       "      <td>министр внутренний дело</td>\n",
       "      <td>президент белоруссия александр</td>\n",
       "      <td>белоруссия александр лукашенко</td>\n",
       "      <td>партия регион виктор</td>\n",
       "      <td>регион виктор янукович</td>\n",
       "      <td>министерство внутренний дело</td>\n",
       "      <td>бют юлий тимошенко</td>\n",
       "      <td>социал демократический партия</td>\n",
       "      <td>лидер партия регион</td>\n",
       "      <td>лидер бют юлий</td>\n",
       "    </tr>\n",
       "    <tr>\n",
       "      <th>Topic 3</th>\n",
       "      <td>сообщать риа новость</td>\n",
       "      <td>агентство риа новость</td>\n",
       "      <td>грузия михаил саакашвили</td>\n",
       "      <td>президент грузия михаил</td>\n",
       "      <td>информационный агентство риа</td>\n",
       "      <td>сообщать информационный агентство</td>\n",
       "      <td>передавать агентство риа</td>\n",
       "      <td>риа новость ссылка</td>\n",
       "      <td>риа новость сообщить</td>\n",
       "      <td>информационный агентство интерфакс</td>\n",
       "    </tr>\n",
       "    <tr>\n",
       "      <th>Topic 4</th>\n",
       "      <td>сообщать итар тасс</td>\n",
       "      <td>министерство иностранный дело</td>\n",
       "      <td>совет национальный безопасность</td>\n",
       "      <td>президент страна виктор</td>\n",
       "      <td>страна виктор ющенко</td>\n",
       "      <td>национальный безопасность оборона</td>\n",
       "      <td>иностранный дело украина</td>\n",
       "      <td>республика южный осетия</td>\n",
       "      <td>сообщать агентство новости</td>\n",
       "      <td>секретарь совет национальный</td>\n",
       "    </tr>\n",
       "    <tr>\n",
       "      <th>Topic 5</th>\n",
       "      <td>грузино осетинский конфликт</td>\n",
       "      <td>сообщать риа новость</td>\n",
       "      <td>российский военный база</td>\n",
       "      <td>зона грузино осетинский</td>\n",
       "      <td>риа новость заявить</td>\n",
       "      <td>передавать агентство интерфакс</td>\n",
       "      <td>россия владимир путин</td>\n",
       "      <td>президент россия владимир</td>\n",
       "      <td>премьер министр грузия</td>\n",
       "      <td>сила поддержание мир</td>\n",
       "    </tr>\n",
       "    <tr>\n",
       "      <th>Topic 6</th>\n",
       "      <td>украина виктор ющенко</td>\n",
       "      <td>президент украина виктор</td>\n",
       "      <td>министр иностранный дело</td>\n",
       "      <td>украина виктор янукович</td>\n",
       "      <td>радиостанция эхо москва</td>\n",
       "      <td>грузино абхазский конфликт</td>\n",
       "      <td>премьер министр украина</td>\n",
       "      <td>пост премьер министр</td>\n",
       "      <td>абхазия южный осетия</td>\n",
       "      <td>сообщать корреспондент net</td>\n",
       "    </tr>\n",
       "    <tr>\n",
       "      <th>Topic 7</th>\n",
       "      <td>сотрудник правоохранительный орган</td>\n",
       "      <td>сообщить риа новость</td>\n",
       "      <td>00 местный время</td>\n",
       "      <td>00 московский время</td>\n",
       "      <td>риа новость пресс</td>\n",
       "      <td>сообщение пресс служба</td>\n",
       "      <td>правоохранительный орган республика</td>\n",
       "      <td>источник правоохранительный орган</td>\n",
       "      <td>тур президентский выбор</td>\n",
       "      <td>пресс секретарь президент</td>\n",
       "    </tr>\n",
       "    <tr>\n",
       "      <th>Topic 8</th>\n",
       "      <td>передавать риа новость</td>\n",
       "      <td>возбудить уголовный дело</td>\n",
       "      <td>сообщать риа новость</td>\n",
       "      <td>уголовный дело статья</td>\n",
       "      <td>сообщать интернет издание</td>\n",
       "      <td>сообщить пресс служба</td>\n",
       "      <td>риа новость ссылка</td>\n",
       "      <td>ссылка пресс служба</td>\n",
       "      <td>сообщать иа regnum</td>\n",
       "      <td>интернет издание газета</td>\n",
       "    </tr>\n",
       "    <tr>\n",
       "      <th>Topic 9</th>\n",
       "      <td>служба безопасность украина</td>\n",
       "      <td>сообщать риа новость</td>\n",
       "      <td>центральный избирательный комиссия</td>\n",
       "      <td>передавать риа новость</td>\n",
       "      <td>президент виктор ющенко</td>\n",
       "      <td>внутренний дело украина</td>\n",
       "      <td>сообщать агентство интерфакс</td>\n",
       "      <td>процент голос избиратель</td>\n",
       "      <td>верховный суд украина</td>\n",
       "      <td>агентство новости грузия</td>\n",
       "    </tr>\n",
       "  </tbody>\n",
       "</table>\n",
       "</div>"
      ],
      "text/plain": [
       "                                     Word 0                          Word 1  \\\n",
       "Topic 0                 блок юлия тимошенко           депутат верховный рад   \n",
       "Topic 1           грузия эдуард шеварднадзе               иа новости грузия   \n",
       "Topic 2             министр внутренний дело  президент белоруссия александр   \n",
       "Topic 3                сообщать риа новость           агентство риа новость   \n",
       "Topic 4                  сообщать итар тасс   министерство иностранный дело   \n",
       "Topic 5         грузино осетинский конфликт            сообщать риа новость   \n",
       "Topic 6               украина виктор ющенко        президент украина виктор   \n",
       "Topic 7  сотрудник правоохранительный орган            сообщить риа новость   \n",
       "Topic 8              передавать риа новость        возбудить уголовный дело   \n",
       "Topic 9         служба безопасность украина            сообщать риа новость   \n",
       "\n",
       "                                     Word 2                   Word 3  \\\n",
       "Topic 0            возбудить уголовный дело  премьер министр украина   \n",
       "Topic 1                 агентство итар тасс  президент грузия эдуард   \n",
       "Topic 2      белоруссия александр лукашенко     партия регион виктор   \n",
       "Topic 3            грузия михаил саакашвили  президент грузия михаил   \n",
       "Topic 4     совет национальный безопасность  президент страна виктор   \n",
       "Topic 5             российский военный база  зона грузино осетинский   \n",
       "Topic 6            министр иностранный дело  украина виктор янукович   \n",
       "Topic 7                    00 местный время      00 московский время   \n",
       "Topic 8                сообщать риа новость    уголовный дело статья   \n",
       "Topic 9  центральный избирательный комиссия   передавать риа новость   \n",
       "\n",
       "                               Word 4                             Word 5  \\\n",
       "Topic 0      президент украина леонид               украина леонид кучма   \n",
       "Topic 1           сообщать иа новости    исполнять обязанность президент   \n",
       "Topic 2        регион виктор янукович       министерство внутренний дело   \n",
       "Topic 3  информационный агентство риа  сообщать информационный агентство   \n",
       "Topic 4          страна виктор ющенко  национальный безопасность оборона   \n",
       "Topic 5           риа новость заявить     передавать агентство интерфакс   \n",
       "Topic 6       радиостанция эхо москва         грузино абхазский конфликт   \n",
       "Topic 7             риа новость пресс             сообщение пресс служба   \n",
       "Topic 8     сообщать интернет издание              сообщить пресс служба   \n",
       "Topic 9       президент виктор ющенко            внутренний дело украина   \n",
       "\n",
       "                                      Word 6  \\\n",
       "Topic 0           журналист георгий гонгадзе   \n",
       "Topic 1                    суд право человек   \n",
       "Topic 2                   бют юлий тимошенко   \n",
       "Topic 3             передавать агентство риа   \n",
       "Topic 4             иностранный дело украина   \n",
       "Topic 5                россия владимир путин   \n",
       "Topic 6              премьер министр украина   \n",
       "Topic 7  правоохранительный орган республика   \n",
       "Topic 8                   риа новость ссылка   \n",
       "Topic 9         сообщать агентство интерфакс   \n",
       "\n",
       "                                    Word 7                      Word 8  \\\n",
       "Topic 0                уголовный дело факт      премьер министр страна   \n",
       "Topic 1             доллар тысяча кубометр      пресс служба президент   \n",
       "Topic 2      социал демократический партия         лидер партия регион   \n",
       "Topic 3                 риа новость ссылка        риа новость сообщить   \n",
       "Topic 4            республика южный осетия  сообщать агентство новости   \n",
       "Topic 5          президент россия владимир      премьер министр грузия   \n",
       "Topic 6               пост премьер министр        абхазия южный осетия   \n",
       "Topic 7  источник правоохранительный орган     тур президентский выбор   \n",
       "Topic 8                ссылка пресс служба          сообщать иа regnum   \n",
       "Topic 9           процент голос избиратель       верховный суд украина   \n",
       "\n",
       "                                     Word 9  \n",
       "Topic 0               верховный рад украина  \n",
       "Topic 1               европейский суд право  \n",
       "Topic 2                      лидер бют юлий  \n",
       "Topic 3  информационный агентство интерфакс  \n",
       "Topic 4        секретарь совет национальный  \n",
       "Topic 5                сила поддержание мир  \n",
       "Topic 6          сообщать корреспондент net  \n",
       "Topic 7           пресс секретарь президент  \n",
       "Topic 8             интернет издание газета  \n",
       "Topic 9            агентство новости грузия  "
      ]
     },
     "execution_count": 176,
     "metadata": {},
     "output_type": "execute_result"
    }
   ],
   "source": [
    "topic_keywords = show_topics(\n",
    "    vectorizer=vect, lda_model=lda, n_words=10)\n",
    "\n",
    "# Topic - Keywords Dataframe\n",
    "df_topic_keywords = pd.DataFrame(topic_keywords)\n",
    "df_topic_keywords.columns = [\n",
    "    'Word ' + str(i) for i in range(df_topic_keywords.shape[1])\n",
    "]\n",
    "df_topic_keywords.index = [\n",
    "    'Topic ' + str(i) for i in range(df_topic_keywords.shape[0])\n",
    "]\n",
    "df_topic_keywords"
   ]
  },
  {
   "cell_type": "code",
   "execution_count": null,
   "metadata": {},
   "outputs": [],
   "source": []
  },
  {
   "cell_type": "code",
   "execution_count": null,
   "metadata": {},
   "outputs": [],
   "source": []
  },
  {
   "cell_type": "code",
   "execution_count": null,
   "metadata": {},
   "outputs": [],
   "source": []
  }
 ],
 "metadata": {
  "kernelspec": {
   "display_name": "Python 3",
   "language": "python",
   "name": "python3"
  },
  "language_info": {
   "codemirror_mode": {
    "name": "ipython",
    "version": 3
   },
   "file_extension": ".py",
   "mimetype": "text/x-python",
   "name": "python",
   "nbconvert_exporter": "python",
   "pygments_lexer": "ipython3",
   "version": "3.7.1"
  }
 },
 "nbformat": 4,
 "nbformat_minor": 2
}
