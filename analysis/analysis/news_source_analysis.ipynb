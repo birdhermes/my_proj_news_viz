{
 "cells": [
  {
   "cell_type": "markdown",
   "metadata": {},
   "source": [
    "# Анализ источников новостей"
   ]
  },
  {
   "cell_type": "markdown",
   "metadata": {},
   "source": [
    "Цель данного исследования: проанализировать источники новостных лент, сравнить рубрики, подумать над возможностью добавление\\удаление категорий для проекта \"Радар новостей рунета\""
   ]
  },
  {
   "cell_type": "code",
   "execution_count": null,
   "metadata": {},
   "outputs": [],
   "source": []
  },
  {
   "cell_type": "code",
   "execution_count": 32,
   "metadata": {},
   "outputs": [],
   "source": [
    "import numpy as np\n",
    "import pandas as pd\n",
    "import datetime as DT"
   ]
  },
  {
   "cell_type": "markdown",
   "metadata": {},
   "source": [
    "## RT"
   ]
  },
  {
   "cell_type": "markdown",
   "metadata": {},
   "source": [
    "Загрузим датасет rt. Одновременно сделаем преобразование даты из строки"
   ]
  },
  {
   "cell_type": "code",
   "execution_count": 37,
   "metadata": {},
   "outputs": [],
   "source": [
    "dateparse = lambda x: pd.datetime.strptime(x, \"%Y-%m-%d %H:%M:%S\")"
   ]
  },
  {
   "cell_type": "code",
   "execution_count": 151,
   "metadata": {},
   "outputs": [],
   "source": [
    "data_rt = pd.read_csv('../data/rt.csv',\n",
    "                      sep=',',\n",
    "                      index_col=False,\n",
    "                      escapechar='\\\\',\n",
    "                      parse_dates=['date'],\n",
    "                      date_parser=dateparse,\n",
    "                      quotechar='\\\"')"
   ]
  },
  {
   "cell_type": "code",
   "execution_count": 152,
   "metadata": {},
   "outputs": [
    {
     "data": {
      "text/plain": [
       "date           datetime64[ns]\n",
       "url                    object\n",
       "edition                object\n",
       "topics                 object\n",
       "authors               float64\n",
       "title                  object\n",
       "text                   object\n",
       "reposts_fb             object\n",
       "reposts_vk             object\n",
       "reposts_ok             object\n",
       "reposts_twi            object\n",
       "reposts_lj             object\n",
       "reposts_tg             object\n",
       "likes                  object\n",
       "views                  object\n",
       "comm_count             object\n",
       "dtype: object"
      ]
     },
     "execution_count": 152,
     "metadata": {},
     "output_type": "execute_result"
    }
   ],
   "source": [
    "# Проверим преобразование\n",
    "data_rt.dtypes"
   ]
  },
  {
   "cell_type": "code",
   "execution_count": 153,
   "metadata": {},
   "outputs": [
    {
     "data": {
      "text/plain": [
       "(106644, 16)"
      ]
     },
     "execution_count": 153,
     "metadata": {},
     "output_type": "execute_result"
    }
   ],
   "source": [
    "data_rt.shape"
   ]
  },
  {
   "cell_type": "code",
   "execution_count": 154,
   "metadata": {},
   "outputs": [
    {
     "data": {
      "text/html": [
       "<div>\n",
       "<style scoped>\n",
       "    .dataframe tbody tr th:only-of-type {\n",
       "        vertical-align: middle;\n",
       "    }\n",
       "\n",
       "    .dataframe tbody tr th {\n",
       "        vertical-align: top;\n",
       "    }\n",
       "\n",
       "    .dataframe thead th {\n",
       "        text-align: right;\n",
       "    }\n",
       "</style>\n",
       "<table border=\"1\" class=\"dataframe\">\n",
       "  <thead>\n",
       "    <tr style=\"text-align: right;\">\n",
       "      <th></th>\n",
       "      <th>date</th>\n",
       "      <th>url</th>\n",
       "      <th>edition</th>\n",
       "      <th>topics</th>\n",
       "      <th>authors</th>\n",
       "      <th>title</th>\n",
       "      <th>text</th>\n",
       "      <th>reposts_fb</th>\n",
       "      <th>reposts_vk</th>\n",
       "      <th>reposts_ok</th>\n",
       "      <th>reposts_twi</th>\n",
       "      <th>reposts_lj</th>\n",
       "      <th>reposts_tg</th>\n",
       "      <th>likes</th>\n",
       "      <th>views</th>\n",
       "      <th>comm_count</th>\n",
       "    </tr>\n",
       "  </thead>\n",
       "  <tbody>\n",
       "    <tr>\n",
       "      <th>0</th>\n",
       "      <td>2019-06-26 14:00:00</td>\n",
       "      <td>https://russian.rt.com/russia/news/644595-avto...</td>\n",
       "      <td>-</td>\n",
       "      <td>Россия</td>\n",
       "      <td>NaN</td>\n",
       "      <td>Эксперт прокомментировал ситуацию с возможным ...</td>\n",
       "      <td>Как считает эксперт, россиянам не стоит пережи...</td>\n",
       "      <td>-</td>\n",
       "      <td>-</td>\n",
       "      <td>-</td>\n",
       "      <td>-</td>\n",
       "      <td>-</td>\n",
       "      <td>-</td>\n",
       "      <td>-</td>\n",
       "      <td>-</td>\n",
       "      <td>-</td>\n",
       "    </tr>\n",
       "    <tr>\n",
       "      <th>1</th>\n",
       "      <td>2019-06-26 19:56:00</td>\n",
       "      <td>https://russian.rt.com/sport/article/644740-nu...</td>\n",
       "      <td>-</td>\n",
       "      <td>Спорт</td>\n",
       "      <td>NaN</td>\n",
       "      <td>Встреча Нурмагомедова с Макгрегором, восстанов...</td>\n",
       "      <td>«Конор может посетить поединок Хабиба с Порье»...</td>\n",
       "      <td>-</td>\n",
       "      <td>-</td>\n",
       "      <td>-</td>\n",
       "      <td>-</td>\n",
       "      <td>-</td>\n",
       "      <td>-</td>\n",
       "      <td>-</td>\n",
       "      <td>-</td>\n",
       "      <td>-</td>\n",
       "    </tr>\n",
       "    <tr>\n",
       "      <th>2</th>\n",
       "      <td>2019-06-26 14:52:00</td>\n",
       "      <td>https://russian.rt.com/russia/news/644619-puti...</td>\n",
       "      <td>-</td>\n",
       "      <td>Россия</td>\n",
       "      <td>NaN</td>\n",
       "      <td>Путин подарил Зюганову на юбилей материалы съе...</td>\n",
       "      <td>Открывая заседание Госсовета в Кремле, Путин п...</td>\n",
       "      <td>-</td>\n",
       "      <td>-</td>\n",
       "      <td>-</td>\n",
       "      <td>-</td>\n",
       "      <td>-</td>\n",
       "      <td>-</td>\n",
       "      <td>-</td>\n",
       "      <td>-</td>\n",
       "      <td>-</td>\n",
       "    </tr>\n",
       "    <tr>\n",
       "      <th>3</th>\n",
       "      <td>2019-06-26 14:44:00</td>\n",
       "      <td>https://russian.rt.com/world/news/644618-parla...</td>\n",
       "      <td>-</td>\n",
       "      <td>Мир</td>\n",
       "      <td>NaN</td>\n",
       "      <td>Парламентарии США, ФРГ и России проведут встре...</td>\n",
       "      <td>Об этом информируетnРИА Новостиnсо ссылкой на ...</td>\n",
       "      <td>-</td>\n",
       "      <td>-</td>\n",
       "      <td>-</td>\n",
       "      <td>-</td>\n",
       "      <td>-</td>\n",
       "      <td>-</td>\n",
       "      <td>-</td>\n",
       "      <td>-</td>\n",
       "      <td>-</td>\n",
       "    </tr>\n",
       "    <tr>\n",
       "      <th>4</th>\n",
       "      <td>2019-06-26 14:42:00</td>\n",
       "      <td>https://russian.rt.com/sport/news/644617-mok-a...</td>\n",
       "      <td>-</td>\n",
       "      <td>Спорт</td>\n",
       "      <td>NaN</td>\n",
       "      <td>МОК принял решение лишить признания AIBA</td>\n",
       "      <td>Решением 134-й сессии МОК в швейцарской Лозанн...</td>\n",
       "      <td>-</td>\n",
       "      <td>-</td>\n",
       "      <td>-</td>\n",
       "      <td>-</td>\n",
       "      <td>-</td>\n",
       "      <td>-</td>\n",
       "      <td>-</td>\n",
       "      <td>-</td>\n",
       "      <td>-</td>\n",
       "    </tr>\n",
       "  </tbody>\n",
       "</table>\n",
       "</div>"
      ],
      "text/plain": [
       "                 date                                                url  \\\n",
       "0 2019-06-26 14:00:00  https://russian.rt.com/russia/news/644595-avto...   \n",
       "1 2019-06-26 19:56:00  https://russian.rt.com/sport/article/644740-nu...   \n",
       "2 2019-06-26 14:52:00  https://russian.rt.com/russia/news/644619-puti...   \n",
       "3 2019-06-26 14:44:00  https://russian.rt.com/world/news/644618-parla...   \n",
       "4 2019-06-26 14:42:00  https://russian.rt.com/sport/news/644617-mok-a...   \n",
       "\n",
       "  edition  topics  authors                                              title  \\\n",
       "0       -  Россия      NaN  Эксперт прокомментировал ситуацию с возможным ...   \n",
       "1       -   Спорт      NaN  Встреча Нурмагомедова с Макгрегором, восстанов...   \n",
       "2       -  Россия      NaN  Путин подарил Зюганову на юбилей материалы съе...   \n",
       "3       -     Мир      NaN  Парламентарии США, ФРГ и России проведут встре...   \n",
       "4       -   Спорт      NaN           МОК принял решение лишить признания AIBA   \n",
       "\n",
       "                                                text reposts_fb reposts_vk  \\\n",
       "0  Как считает эксперт, россиянам не стоит пережи...          -          -   \n",
       "1  «Конор может посетить поединок Хабиба с Порье»...          -          -   \n",
       "2  Открывая заседание Госсовета в Кремле, Путин п...          -          -   \n",
       "3  Об этом информируетnРИА Новостиnсо ссылкой на ...          -          -   \n",
       "4  Решением 134-й сессии МОК в швейцарской Лозанн...          -          -   \n",
       "\n",
       "  reposts_ok reposts_twi reposts_lj reposts_tg likes views comm_count  \n",
       "0          -           -          -          -     -     -          -  \n",
       "1          -           -          -          -     -     -          -  \n",
       "2          -           -          -          -     -     -          -  \n",
       "3          -           -          -          -     -     -          -  \n",
       "4          -           -          -          -     -     -          -  "
      ]
     },
     "execution_count": 154,
     "metadata": {},
     "output_type": "execute_result"
    }
   ],
   "source": [
    "# Так выглядет датасет RT\n",
    "data_rt.head()"
   ]
  },
  {
   "cell_type": "code",
   "execution_count": null,
   "metadata": {},
   "outputs": [],
   "source": []
  },
  {
   "cell_type": "code",
   "execution_count": 155,
   "metadata": {},
   "outputs": [
    {
     "data": {
      "text/plain": [
       "date           False\n",
       "url            False\n",
       "edition        False\n",
       "topics         False\n",
       "authors         True\n",
       "title          False\n",
       "text            True\n",
       "reposts_fb     False\n",
       "reposts_vk     False\n",
       "reposts_ok     False\n",
       "reposts_twi    False\n",
       "reposts_lj     False\n",
       "reposts_tg     False\n",
       "likes          False\n",
       "views          False\n",
       "comm_count     False\n",
       "dtype: bool"
      ]
     },
     "execution_count": 155,
     "metadata": {},
     "output_type": "execute_result"
    }
   ],
   "source": [
    "# Выясним в каким столбцах есть пустые данные\n",
    "data_rt.isnull().any()"
   ]
  },
  {
   "cell_type": "markdown",
   "metadata": {},
   "source": [
    "Как видим, в некоторых столбцах вместо значения Nan используется \"-\", их преобразованием займемся позже. А пока посмотрим строки, в которых пустые тексты новостей"
   ]
  },
  {
   "cell_type": "code",
   "execution_count": 156,
   "metadata": {},
   "outputs": [
    {
     "name": "stdout",
     "output_type": "stream",
     "text": [
      "Кол-во строк с значением NaN в столбце \"Text\" =  12\n"
     ]
    },
    {
     "data": {
      "text/html": [
       "<div>\n",
       "<style scoped>\n",
       "    .dataframe tbody tr th:only-of-type {\n",
       "        vertical-align: middle;\n",
       "    }\n",
       "\n",
       "    .dataframe tbody tr th {\n",
       "        vertical-align: top;\n",
       "    }\n",
       "\n",
       "    .dataframe thead th {\n",
       "        text-align: right;\n",
       "    }\n",
       "</style>\n",
       "<table border=\"1\" class=\"dataframe\">\n",
       "  <thead>\n",
       "    <tr style=\"text-align: right;\">\n",
       "      <th></th>\n",
       "      <th>date</th>\n",
       "      <th>url</th>\n",
       "      <th>edition</th>\n",
       "      <th>topics</th>\n",
       "      <th>authors</th>\n",
       "      <th>title</th>\n",
       "      <th>text</th>\n",
       "      <th>reposts_fb</th>\n",
       "      <th>reposts_vk</th>\n",
       "      <th>reposts_ok</th>\n",
       "      <th>reposts_twi</th>\n",
       "      <th>reposts_lj</th>\n",
       "      <th>reposts_tg</th>\n",
       "      <th>likes</th>\n",
       "      <th>views</th>\n",
       "      <th>comm_count</th>\n",
       "    </tr>\n",
       "  </thead>\n",
       "  <tbody>\n",
       "    <tr>\n",
       "      <th>37474</th>\n",
       "      <td>2019-06-05 13:47:00</td>\n",
       "      <td>https://russian.rt.com/russia/video/638188-obr...</td>\n",
       "      <td>-</td>\n",
       "      <td>Россия</td>\n",
       "      <td>NaN</td>\n",
       "      <td>\\n            В Дагестане люди пытаются вручну...</td>\n",
       "      <td>NaN</td>\n",
       "      <td>-</td>\n",
       "      <td>-</td>\n",
       "      <td>-</td>\n",
       "      <td>-</td>\n",
       "      <td>-</td>\n",
       "      <td>-</td>\n",
       "      <td>-</td>\n",
       "      <td>-</td>\n",
       "      <td>-</td>\n",
       "    </tr>\n",
       "    <tr>\n",
       "      <th>38249</th>\n",
       "      <td>2017-12-11 19:32:00</td>\n",
       "      <td>https://russian.rt.com/sport/article/459073-ro...</td>\n",
       "      <td>-</td>\n",
       "      <td>Спорт</td>\n",
       "      <td>NaN</td>\n",
       "      <td>Не без труда: Россия в овертайме победила Южну...</td>\n",
       "      <td>NaN</td>\n",
       "      <td>-</td>\n",
       "      <td>-</td>\n",
       "      <td>-</td>\n",
       "      <td>-</td>\n",
       "      <td>-</td>\n",
       "      <td>-</td>\n",
       "      <td>-</td>\n",
       "      <td>-</td>\n",
       "      <td>-</td>\n",
       "    </tr>\n",
       "    <tr>\n",
       "      <th>43956</th>\n",
       "      <td>2017-12-08 01:29:00</td>\n",
       "      <td>https://russian.rt.com/world/article/457555-la...</td>\n",
       "      <td>-</td>\n",
       "      <td>Мир</td>\n",
       "      <td>NaN</td>\n",
       "      <td>Будущее Сирии, перенос столицы Израиля и ситуа...</td>\n",
       "      <td>NaN</td>\n",
       "      <td>-</td>\n",
       "      <td>-</td>\n",
       "      <td>-</td>\n",
       "      <td>-</td>\n",
       "      <td>-</td>\n",
       "      <td>-</td>\n",
       "      <td>-</td>\n",
       "      <td>-</td>\n",
       "      <td>-</td>\n",
       "    </tr>\n",
       "    <tr>\n",
       "      <th>84132</th>\n",
       "      <td>2016-07-29 10:08:01</td>\n",
       "      <td>https://russian.rt.com/article/314450-dollar-p...</td>\n",
       "      <td>-</td>\n",
       "      <td>Россия</td>\n",
       "      <td>NaN</td>\n",
       "      <td>Доллар превысил 67 рублей</td>\n",
       "      <td>NaN</td>\n",
       "      <td>-</td>\n",
       "      <td>-</td>\n",
       "      <td>-</td>\n",
       "      <td>-</td>\n",
       "      <td>-</td>\n",
       "      <td>-</td>\n",
       "      <td>-</td>\n",
       "      <td>-</td>\n",
       "      <td>-</td>\n",
       "    </tr>\n",
       "    <tr>\n",
       "      <th>86097</th>\n",
       "      <td>2016-07-27 11:24:00</td>\n",
       "      <td>https://russian.rt.com/article/314142-sbornaya...</td>\n",
       "      <td>-</td>\n",
       "      <td>Спорт</td>\n",
       "      <td>NaN</td>\n",
       "      <td>Сборная России по тхэквондо в полном составе д...</td>\n",
       "      <td>NaN</td>\n",
       "      <td>-</td>\n",
       "      <td>-</td>\n",
       "      <td>-</td>\n",
       "      <td>-</td>\n",
       "      <td>-</td>\n",
       "      <td>-</td>\n",
       "      <td>-</td>\n",
       "      <td>-</td>\n",
       "      <td>-</td>\n",
       "    </tr>\n",
       "    <tr>\n",
       "      <th>86103</th>\n",
       "      <td>2016-07-27 08:56:37</td>\n",
       "      <td>https://russian.rt.com/article/314121-cb-rf-ot...</td>\n",
       "      <td>-</td>\n",
       "      <td>Россия</td>\n",
       "      <td>NaN</td>\n",
       "      <td>ЦБ РФ отозвал лицензию у банка «БФГ-Кредит»</td>\n",
       "      <td>NaN</td>\n",
       "      <td>-</td>\n",
       "      <td>-</td>\n",
       "      <td>-</td>\n",
       "      <td>-</td>\n",
       "      <td>-</td>\n",
       "      <td>-</td>\n",
       "      <td>-</td>\n",
       "      <td>-</td>\n",
       "      <td>-</td>\n",
       "    </tr>\n",
       "    <tr>\n",
       "      <th>92836</th>\n",
       "      <td>2016-07-19 17:43:00</td>\n",
       "      <td>https://russian.rt.com/article/312972-mok-inic...</td>\n",
       "      <td>-</td>\n",
       "      <td>Спорт</td>\n",
       "      <td>NaN</td>\n",
       "      <td>МОК инициирует повторный анализ проб российски...</td>\n",
       "      <td>NaN</td>\n",
       "      <td>-</td>\n",
       "      <td>-</td>\n",
       "      <td>-</td>\n",
       "      <td>-</td>\n",
       "      <td>-</td>\n",
       "      <td>-</td>\n",
       "      <td>-</td>\n",
       "      <td>-</td>\n",
       "      <td>-</td>\n",
       "    </tr>\n",
       "    <tr>\n",
       "      <th>93872</th>\n",
       "      <td>2017-11-09 18:22:00</td>\n",
       "      <td>https://russian.rt.com/world/article/447764-ss...</td>\n",
       "      <td>-</td>\n",
       "      <td>Мир</td>\n",
       "      <td>NaN</td>\n",
       "      <td>«Это могла быть только внутренняя утечка»: экс...</td>\n",
       "      <td>NaN</td>\n",
       "      <td>-</td>\n",
       "      <td>-</td>\n",
       "      <td>-</td>\n",
       "      <td>-</td>\n",
       "      <td>-</td>\n",
       "      <td>-</td>\n",
       "      <td>-</td>\n",
       "      <td>-</td>\n",
       "      <td>-</td>\n",
       "    </tr>\n",
       "    <tr>\n",
       "      <th>93917</th>\n",
       "      <td>2016-07-18 16:47:26</td>\n",
       "      <td>https://russian.rt.com/article/312776-otchyot-...</td>\n",
       "      <td>-</td>\n",
       "      <td>Спорт</td>\n",
       "      <td>NaN</td>\n",
       "      <td>Отчёт WADA: Метод, используемый ФСБ для вскрыт...</td>\n",
       "      <td>NaN</td>\n",
       "      <td>-</td>\n",
       "      <td>-</td>\n",
       "      <td>-</td>\n",
       "      <td>-</td>\n",
       "      <td>-</td>\n",
       "      <td>-</td>\n",
       "      <td>-</td>\n",
       "      <td>-</td>\n",
       "      <td>-</td>\n",
       "    </tr>\n",
       "    <tr>\n",
       "      <th>93919</th>\n",
       "      <td>2016-07-18 16:25:00</td>\n",
       "      <td>https://russian.rt.com/article/312771-otchyot-...</td>\n",
       "      <td>-</td>\n",
       "      <td>Спорт</td>\n",
       "      <td>NaN</td>\n",
       "      <td>Отчёт WADA: Минспорт РФ и ФСБ участвовали в за...</td>\n",
       "      <td>NaN</td>\n",
       "      <td>-</td>\n",
       "      <td>-</td>\n",
       "      <td>-</td>\n",
       "      <td>-</td>\n",
       "      <td>-</td>\n",
       "      <td>-</td>\n",
       "      <td>-</td>\n",
       "      <td>-</td>\n",
       "      <td>-</td>\n",
       "    </tr>\n",
       "    <tr>\n",
       "      <th>93920</th>\n",
       "      <td>2016-07-18 16:15:29</td>\n",
       "      <td>https://russian.rt.com/article/312767-otchyot-...</td>\n",
       "      <td>-</td>\n",
       "      <td>Спорт</td>\n",
       "      <td>NaN</td>\n",
       "      <td>Отчёт WADA: Минспорт РФ курировал манипуляции ...</td>\n",
       "      <td>NaN</td>\n",
       "      <td>-</td>\n",
       "      <td>-</td>\n",
       "      <td>-</td>\n",
       "      <td>-</td>\n",
       "      <td>-</td>\n",
       "      <td>-</td>\n",
       "      <td>-</td>\n",
       "      <td>-</td>\n",
       "      <td>-</td>\n",
       "    </tr>\n",
       "    <tr>\n",
       "      <th>99771</th>\n",
       "      <td>2016-07-11 10:10:00</td>\n",
       "      <td>https://russian.rt.com/article/311735-rubl-nez...</td>\n",
       "      <td>-</td>\n",
       "      <td>Россия</td>\n",
       "      <td>NaN</td>\n",
       "      <td>Рубль незначительно подешевел к доллару и евро</td>\n",
       "      <td>NaN</td>\n",
       "      <td>-</td>\n",
       "      <td>-</td>\n",
       "      <td>-</td>\n",
       "      <td>-</td>\n",
       "      <td>-</td>\n",
       "      <td>-</td>\n",
       "      <td>-</td>\n",
       "      <td>-</td>\n",
       "      <td>-</td>\n",
       "    </tr>\n",
       "  </tbody>\n",
       "</table>\n",
       "</div>"
      ],
      "text/plain": [
       "                     date                                                url  \\\n",
       "37474 2019-06-05 13:47:00  https://russian.rt.com/russia/video/638188-obr...   \n",
       "38249 2017-12-11 19:32:00  https://russian.rt.com/sport/article/459073-ro...   \n",
       "43956 2017-12-08 01:29:00  https://russian.rt.com/world/article/457555-la...   \n",
       "84132 2016-07-29 10:08:01  https://russian.rt.com/article/314450-dollar-p...   \n",
       "86097 2016-07-27 11:24:00  https://russian.rt.com/article/314142-sbornaya...   \n",
       "86103 2016-07-27 08:56:37  https://russian.rt.com/article/314121-cb-rf-ot...   \n",
       "92836 2016-07-19 17:43:00  https://russian.rt.com/article/312972-mok-inic...   \n",
       "93872 2017-11-09 18:22:00  https://russian.rt.com/world/article/447764-ss...   \n",
       "93917 2016-07-18 16:47:26  https://russian.rt.com/article/312776-otchyot-...   \n",
       "93919 2016-07-18 16:25:00  https://russian.rt.com/article/312771-otchyot-...   \n",
       "93920 2016-07-18 16:15:29  https://russian.rt.com/article/312767-otchyot-...   \n",
       "99771 2016-07-11 10:10:00  https://russian.rt.com/article/311735-rubl-nez...   \n",
       "\n",
       "      edition  topics  authors  \\\n",
       "37474       -  Россия      NaN   \n",
       "38249       -   Спорт      NaN   \n",
       "43956       -     Мир      NaN   \n",
       "84132       -  Россия      NaN   \n",
       "86097       -   Спорт      NaN   \n",
       "86103       -  Россия      NaN   \n",
       "92836       -   Спорт      NaN   \n",
       "93872       -     Мир      NaN   \n",
       "93917       -   Спорт      NaN   \n",
       "93919       -   Спорт      NaN   \n",
       "93920       -   Спорт      NaN   \n",
       "99771       -  Россия      NaN   \n",
       "\n",
       "                                                   title text reposts_fb  \\\n",
       "37474  \\n            В Дагестане люди пытаются вручну...  NaN          -   \n",
       "38249  Не без труда: Россия в овертайме победила Южну...  NaN          -   \n",
       "43956  Будущее Сирии, перенос столицы Израиля и ситуа...  NaN          -   \n",
       "84132                          Доллар превысил 67 рублей  NaN          -   \n",
       "86097  Сборная России по тхэквондо в полном составе д...  NaN          -   \n",
       "86103        ЦБ РФ отозвал лицензию у банка «БФГ-Кредит»  NaN          -   \n",
       "92836  МОК инициирует повторный анализ проб российски...  NaN          -   \n",
       "93872  «Это могла быть только внутренняя утечка»: экс...  NaN          -   \n",
       "93917  Отчёт WADA: Метод, используемый ФСБ для вскрыт...  NaN          -   \n",
       "93919  Отчёт WADA: Минспорт РФ и ФСБ участвовали в за...  NaN          -   \n",
       "93920  Отчёт WADA: Минспорт РФ курировал манипуляции ...  NaN          -   \n",
       "99771     Рубль незначительно подешевел к доллару и евро  NaN          -   \n",
       "\n",
       "      reposts_vk reposts_ok reposts_twi reposts_lj reposts_tg likes views  \\\n",
       "37474          -          -           -          -          -     -     -   \n",
       "38249          -          -           -          -          -     -     -   \n",
       "43956          -          -           -          -          -     -     -   \n",
       "84132          -          -           -          -          -     -     -   \n",
       "86097          -          -           -          -          -     -     -   \n",
       "86103          -          -           -          -          -     -     -   \n",
       "92836          -          -           -          -          -     -     -   \n",
       "93872          -          -           -          -          -     -     -   \n",
       "93917          -          -           -          -          -     -     -   \n",
       "93919          -          -           -          -          -     -     -   \n",
       "93920          -          -           -          -          -     -     -   \n",
       "99771          -          -           -          -          -     -     -   \n",
       "\n",
       "      comm_count  \n",
       "37474          -  \n",
       "38249          -  \n",
       "43956          -  \n",
       "84132          -  \n",
       "86097          -  \n",
       "86103          -  \n",
       "92836          -  \n",
       "93872          -  \n",
       "93917          -  \n",
       "93919          -  \n",
       "93920          -  \n",
       "99771          -  "
      ]
     },
     "execution_count": 156,
     "metadata": {},
     "output_type": "execute_result"
    }
   ],
   "source": [
    "print('Кол-во строк с значением NaN в столбце \"Text\" = ', data_rt['text'].isnull().sum())\n",
    "data_rt[data_rt['text'].isnull()]"
   ]
  },
  {
   "cell_type": "code",
   "execution_count": 157,
   "metadata": {},
   "outputs": [],
   "source": [
    "#Удалим эти строки\n",
    "data_rt['text'].dropna(inplace=True)"
   ]
  },
  {
   "cell_type": "code",
   "execution_count": 158,
   "metadata": {},
   "outputs": [
    {
     "name": "stdout",
     "output_type": "stream",
     "text": [
      "Кол-во строк с значением NaN в столбце \"Text\" =  0\n"
     ]
    }
   ],
   "source": [
    "print('Кол-во строк с значением NaN в столбце \"Text\" = ', data_rt['text'].isnull().sum())"
   ]
  },
  {
   "cell_type": "markdown",
   "metadata": {},
   "source": [
    "Посмотрим сколько элементов Nan в столбце авторов"
   ]
  },
  {
   "cell_type": "code",
   "execution_count": 166,
   "metadata": {},
   "outputs": [
    {
     "name": "stdout",
     "output_type": "stream",
     "text": [
      "Кол-во строк с значением NaN в столбце \"authors\" =  106644\n"
     ]
    }
   ],
   "source": [
    "print('Кол-во строк с значением NaN в столбце \"authors\" = ', data_rt['authors'].isnull().sum())"
   ]
  },
  {
   "cell_type": "markdown",
   "metadata": {},
   "source": [
    "Как видим все значения авторов Nan. Можно не использовать данные столбец"
   ]
  },
  {
   "cell_type": "code",
   "execution_count": null,
   "metadata": {},
   "outputs": [],
   "source": []
  },
  {
   "cell_type": "markdown",
   "metadata": {},
   "source": [
    "Посмотрим, что в столбцах, которые содержат дефис, как обозначение пустых данных"
   ]
  },
  {
   "cell_type": "code",
   "execution_count": 211,
   "metadata": {},
   "outputs": [
    {
     "name": "stdout",
     "output_type": "stream",
     "text": [
      "edition:  ['-']\n",
      "reposts_fb:  ['-']\n",
      "reposts_vk:  ['-']\n",
      "reposts_ok:  ['-']\n",
      "reposts_twi:  ['-']\n",
      "reposts_lj:  ['-']\n",
      "reposts_tg:  ['-']\n",
      "likes:  ['-']\n",
      "views:  ['-']\n",
      "comm_count:  ['-']\n"
     ]
    }
   ],
   "source": [
    "print('edition: ',data_rt['edition'].unique())\n",
    "print('reposts_fb: ', data_rt['reposts_fb'].unique())\n",
    "print('reposts_vk: ',data_rt['reposts_vk'].unique())\n",
    "print('reposts_ok: ',data_rt['reposts_ok'].unique())\n",
    "print('reposts_twi: ',data_rt['reposts_twi'].unique())\n",
    "print('reposts_lj: ',data_rt['reposts_lj'].unique())\n",
    "print('reposts_tg: ',data_rt['reposts_tg'].unique())\n",
    "print('likes: ',data_rt['likes'].unique())\n",
    "print('views: ',data_rt['views'].unique())\n",
    "print('comm_count: ',data_rt['comm_count'].unique())"
   ]
  },
  {
   "cell_type": "markdown",
   "metadata": {},
   "source": [
    "Значений нет, можно удалять"
   ]
  },
  {
   "cell_type": "markdown",
   "metadata": {},
   "source": [
    "### Рубрики RT"
   ]
  },
  {
   "cell_type": "code",
   "execution_count": 162,
   "metadata": {},
   "outputs": [
    {
     "name": "stdout",
     "output_type": "stream",
     "text": [
      "Количество рубрик =  (10,)\n"
     ]
    },
    {
     "data": {
      "text/plain": [
       "array(['Россия', 'Спорт', 'Мир', 'Без политики', 'Новости партнёров',\n",
       "       'Бывший СССР', 'Экономика', 'Наука', 'Мероприятия RT',\n",
       "       'Пресс-релизы'], dtype=object)"
      ]
     },
     "execution_count": 162,
     "metadata": {},
     "output_type": "execute_result"
    }
   ],
   "source": [
    "# Считаем количество рубрик в данном датасете, а также выведем значения\n",
    "print('Количество рубрик = ', data_rt.topics.unique().shape)\n",
    "data_rt['topics'].unique()"
   ]
  },
  {
   "cell_type": "markdown",
   "metadata": {},
   "source": [
    "Все рубрики, с количеством новостей в каждой группе"
   ]
  },
  {
   "cell_type": "code",
   "execution_count": 172,
   "metadata": {},
   "outputs": [
    {
     "data": {
      "text/plain": [
       "topics\n",
       "Без политики          4489\n",
       "Бывший СССР          10078\n",
       "Мероприятия RT          13\n",
       "Мир                  26476\n",
       "Наука                 1496\n",
       "Новости партнёров       14\n",
       "Пресс-релизы            92\n",
       "Россия               32963\n",
       "Спорт                26702\n",
       "Экономика             4321\n",
       "Name: topics, dtype: int64"
      ]
     },
     "execution_count": 172,
     "metadata": {},
     "output_type": "execute_result"
    }
   ],
   "source": [
    "data_rt.groupby('topics')['topics'].count()"
   ]
  },
  {
   "cell_type": "code",
   "execution_count": null,
   "metadata": {},
   "outputs": [],
   "source": []
  },
  {
   "cell_type": "markdown",
   "metadata": {},
   "source": [
    "## ria"
   ]
  },
  {
   "cell_type": "code",
   "execution_count": 212,
   "metadata": {},
   "outputs": [],
   "source": [
    "dateparse = lambda x: pd.datetime.strptime(x, \"%Y-%m-%d %H:%M:%S\")"
   ]
  },
  {
   "cell_type": "code",
   "execution_count": 215,
   "metadata": {},
   "outputs": [
    {
     "name": "stderr",
     "output_type": "stream",
     "text": [
      "b'Skipping line 49866: expected 17 fields, saw 33\\n'\n"
     ]
    }
   ],
   "source": [
    "data_ria = pd.read_csv('../data/ria.csv',\n",
    "                      sep=',',\n",
    "                      index_col=False,\n",
    "                      escapechar='\\\\',\n",
    "                      parse_dates=['date'],\n",
    "                      date_parser=dateparse,\n",
    "                      quotechar='\\\"', error_bad_lines=False)"
   ]
  },
  {
   "cell_type": "code",
   "execution_count": 217,
   "metadata": {},
   "outputs": [
    {
     "data": {
      "text/plain": [
       "date           datetime64[ns]\n",
       "url                    object\n",
       "edition                object\n",
       "topics                 object\n",
       "authors               float64\n",
       "title                  object\n",
       "text                   object\n",
       "reposts_fb             object\n",
       "reposts_vk             object\n",
       "reposts_ok             object\n",
       "reposts_twi            object\n",
       "reposts_lj             object\n",
       "reposts_tg             object\n",
       "likes                   int64\n",
       "views                   int64\n",
       "comm_count             object\n",
       "dtype: object"
      ]
     },
     "execution_count": 217,
     "metadata": {},
     "output_type": "execute_result"
    }
   ],
   "source": [
    "# Проверим преобразование\n",
    "data_ria.dtypes"
   ]
  },
  {
   "cell_type": "code",
   "execution_count": 219,
   "metadata": {},
   "outputs": [
    {
     "data": {
      "text/plain": [
       "(101543, 16)"
      ]
     },
     "execution_count": 219,
     "metadata": {},
     "output_type": "execute_result"
    }
   ],
   "source": [
    "data_ria.shape"
   ]
  },
  {
   "cell_type": "code",
   "execution_count": 220,
   "metadata": {},
   "outputs": [
    {
     "data": {
      "text/html": [
       "<div>\n",
       "<style scoped>\n",
       "    .dataframe tbody tr th:only-of-type {\n",
       "        vertical-align: middle;\n",
       "    }\n",
       "\n",
       "    .dataframe tbody tr th {\n",
       "        vertical-align: top;\n",
       "    }\n",
       "\n",
       "    .dataframe thead th {\n",
       "        text-align: right;\n",
       "    }\n",
       "</style>\n",
       "<table border=\"1\" class=\"dataframe\">\n",
       "  <thead>\n",
       "    <tr style=\"text-align: right;\">\n",
       "      <th></th>\n",
       "      <th>date</th>\n",
       "      <th>url</th>\n",
       "      <th>edition</th>\n",
       "      <th>topics</th>\n",
       "      <th>authors</th>\n",
       "      <th>title</th>\n",
       "      <th>text</th>\n",
       "      <th>reposts_fb</th>\n",
       "      <th>reposts_vk</th>\n",
       "      <th>reposts_ok</th>\n",
       "      <th>reposts_twi</th>\n",
       "      <th>reposts_lj</th>\n",
       "      <th>reposts_tg</th>\n",
       "      <th>likes</th>\n",
       "      <th>views</th>\n",
       "      <th>comm_count</th>\n",
       "    </tr>\n",
       "  </thead>\n",
       "  <tbody>\n",
       "    <tr>\n",
       "      <th>0</th>\n",
       "      <td>2019-08-10 06:35:00</td>\n",
       "      <td>https://ria.ru/20190810/1557366973.html</td>\n",
       "      <td>ria.ru</td>\n",
       "      <td>Происшествия</td>\n",
       "      <td>NaN</td>\n",
       "      <td>Восемнадцать туристов застряли на пляже в Прим...</td>\n",
       "      <td>ВЛАДИВОСТОК, 10 авг – РИА Новости.nВосемнадцат...</td>\n",
       "      <td>-</td>\n",
       "      <td>-</td>\n",
       "      <td>-</td>\n",
       "      <td>-</td>\n",
       "      <td>-</td>\n",
       "      <td>-</td>\n",
       "      <td>0</td>\n",
       "      <td>70</td>\n",
       "      <td>-</td>\n",
       "    </tr>\n",
       "    <tr>\n",
       "      <th>1</th>\n",
       "      <td>2019-08-10 03:25:00</td>\n",
       "      <td>https://ria.ru/20190810/1557366343.html</td>\n",
       "      <td>ria.ru</td>\n",
       "      <td>В мире</td>\n",
       "      <td>NaN</td>\n",
       "      <td>Президент Парагвая даст показания по делу о сп...</td>\n",
       "      <td>БУЭНОС-АЙРЕС, 10 авг – РИА Новости.nПрезидент ...</td>\n",
       "      <td>-</td>\n",
       "      <td>-</td>\n",
       "      <td>-</td>\n",
       "      <td>-</td>\n",
       "      <td>-</td>\n",
       "      <td>-</td>\n",
       "      <td>1</td>\n",
       "      <td>177</td>\n",
       "      <td>-</td>\n",
       "    </tr>\n",
       "    <tr>\n",
       "      <th>2</th>\n",
       "      <td>2019-08-10 03:26:00</td>\n",
       "      <td>https://ria.ru/20190810/1557366366.html</td>\n",
       "      <td>ria.ru</td>\n",
       "      <td>В мире</td>\n",
       "      <td>NaN</td>\n",
       "      <td>Андрейченко обвинили в угрозе теракта после но...</td>\n",
       "      <td>МОСКВА, 10 авг - РИА Новости.nДмитрию Андрейче...</td>\n",
       "      <td>-</td>\n",
       "      <td>-</td>\n",
       "      <td>-</td>\n",
       "      <td>-</td>\n",
       "      <td>-</td>\n",
       "      <td>-</td>\n",
       "      <td>2</td>\n",
       "      <td>919</td>\n",
       "      <td>-</td>\n",
       "    </tr>\n",
       "    <tr>\n",
       "      <th>3</th>\n",
       "      <td>2019-08-10 03:31:00</td>\n",
       "      <td>https://ria.ru/20190810/1557366398.html</td>\n",
       "      <td>ria.ru</td>\n",
       "      <td>В мире</td>\n",
       "      <td>NaN</td>\n",
       "      <td>Япония заявила, что не испугалась субботних пу...</td>\n",
       "      <td>МОСКВА, 10 авг - РИА Новости.nПравительство Яп...</td>\n",
       "      <td>-</td>\n",
       "      <td>-</td>\n",
       "      <td>-</td>\n",
       "      <td>-</td>\n",
       "      <td>-</td>\n",
       "      <td>-</td>\n",
       "      <td>1</td>\n",
       "      <td>140</td>\n",
       "      <td>-</td>\n",
       "    </tr>\n",
       "    <tr>\n",
       "      <th>4</th>\n",
       "      <td>2019-08-10 03:32:00</td>\n",
       "      <td>https://ria.ru/20190810/1557366421.html</td>\n",
       "      <td>ria.ru</td>\n",
       "      <td>Происшествия</td>\n",
       "      <td>NaN</td>\n",
       "      <td>Власти Якутии погасят долг перед жителями, уча...</td>\n",
       "      <td>ЯКУТСК, 10 авг – РИА Новости.nСредства резервн...</td>\n",
       "      <td>-</td>\n",
       "      <td>-</td>\n",
       "      <td>-</td>\n",
       "      <td>-</td>\n",
       "      <td>-</td>\n",
       "      <td>-</td>\n",
       "      <td>3</td>\n",
       "      <td>1196</td>\n",
       "      <td>-</td>\n",
       "    </tr>\n",
       "  </tbody>\n",
       "</table>\n",
       "</div>"
      ],
      "text/plain": [
       "                 date                                      url edition  \\\n",
       "0 2019-08-10 06:35:00  https://ria.ru/20190810/1557366973.html  ria.ru   \n",
       "1 2019-08-10 03:25:00  https://ria.ru/20190810/1557366343.html  ria.ru   \n",
       "2 2019-08-10 03:26:00  https://ria.ru/20190810/1557366366.html  ria.ru   \n",
       "3 2019-08-10 03:31:00  https://ria.ru/20190810/1557366398.html  ria.ru   \n",
       "4 2019-08-10 03:32:00  https://ria.ru/20190810/1557366421.html  ria.ru   \n",
       "\n",
       "         topics  authors                                              title  \\\n",
       "0  Происшествия      NaN  Восемнадцать туристов застряли на пляже в Прим...   \n",
       "1        В мире      NaN  Президент Парагвая даст показания по делу о сп...   \n",
       "2        В мире      NaN  Андрейченко обвинили в угрозе теракта после но...   \n",
       "3        В мире      NaN  Япония заявила, что не испугалась субботних пу...   \n",
       "4  Происшествия      NaN  Власти Якутии погасят долг перед жителями, уча...   \n",
       "\n",
       "                                                text reposts_fb reposts_vk  \\\n",
       "0  ВЛАДИВОСТОК, 10 авг – РИА Новости.nВосемнадцат...          -          -   \n",
       "1  БУЭНОС-АЙРЕС, 10 авг – РИА Новости.nПрезидент ...          -          -   \n",
       "2  МОСКВА, 10 авг - РИА Новости.nДмитрию Андрейче...          -          -   \n",
       "3  МОСКВА, 10 авг - РИА Новости.nПравительство Яп...          -          -   \n",
       "4  ЯКУТСК, 10 авг – РИА Новости.nСредства резервн...          -          -   \n",
       "\n",
       "  reposts_ok reposts_twi reposts_lj reposts_tg  likes  views comm_count  \n",
       "0          -           -          -          -      0     70          -  \n",
       "1          -           -          -          -      1    177          -  \n",
       "2          -           -          -          -      2    919          -  \n",
       "3          -           -          -          -      1    140          -  \n",
       "4          -           -          -          -      3   1196          -  "
      ]
     },
     "execution_count": 220,
     "metadata": {},
     "output_type": "execute_result"
    }
   ],
   "source": [
    "# Так выглядет датасет ria\n",
    "data_ria.head()"
   ]
  },
  {
   "cell_type": "code",
   "execution_count": null,
   "metadata": {},
   "outputs": [],
   "source": []
  },
  {
   "cell_type": "code",
   "execution_count": 221,
   "metadata": {},
   "outputs": [
    {
     "data": {
      "text/plain": [
       "date           False\n",
       "url            False\n",
       "edition        False\n",
       "topics         False\n",
       "authors         True\n",
       "title          False\n",
       "text            True\n",
       "reposts_fb     False\n",
       "reposts_vk     False\n",
       "reposts_ok     False\n",
       "reposts_twi    False\n",
       "reposts_lj     False\n",
       "reposts_tg     False\n",
       "likes          False\n",
       "views          False\n",
       "comm_count     False\n",
       "dtype: bool"
      ]
     },
     "execution_count": 221,
     "metadata": {},
     "output_type": "execute_result"
    }
   ],
   "source": [
    "# Выясним в каким столбцах есть пустые данные\n",
    "data_ria.isnull().any()"
   ]
  },
  {
   "cell_type": "code",
   "execution_count": null,
   "metadata": {},
   "outputs": [],
   "source": []
  },
  {
   "cell_type": "markdown",
   "metadata": {},
   "source": [
    "Как видим, в некоторых столбцах вместо значения Nan используется \"-\", их преобразованием займемся позже. А пока посмотрим строки, в которых пустые тексты новостей"
   ]
  },
  {
   "cell_type": "code",
   "execution_count": 223,
   "metadata": {},
   "outputs": [
    {
     "name": "stdout",
     "output_type": "stream",
     "text": [
      "Кол-во строк с значением NaN в столбце \"Text\" =  2\n"
     ]
    },
    {
     "data": {
      "text/html": [
       "<div>\n",
       "<style scoped>\n",
       "    .dataframe tbody tr th:only-of-type {\n",
       "        vertical-align: middle;\n",
       "    }\n",
       "\n",
       "    .dataframe tbody tr th {\n",
       "        vertical-align: top;\n",
       "    }\n",
       "\n",
       "    .dataframe thead th {\n",
       "        text-align: right;\n",
       "    }\n",
       "</style>\n",
       "<table border=\"1\" class=\"dataframe\">\n",
       "  <thead>\n",
       "    <tr style=\"text-align: right;\">\n",
       "      <th></th>\n",
       "      <th>date</th>\n",
       "      <th>url</th>\n",
       "      <th>edition</th>\n",
       "      <th>topics</th>\n",
       "      <th>authors</th>\n",
       "      <th>title</th>\n",
       "      <th>text</th>\n",
       "      <th>reposts_fb</th>\n",
       "      <th>reposts_vk</th>\n",
       "      <th>reposts_ok</th>\n",
       "      <th>reposts_twi</th>\n",
       "      <th>reposts_lj</th>\n",
       "      <th>reposts_tg</th>\n",
       "      <th>likes</th>\n",
       "      <th>views</th>\n",
       "      <th>comm_count</th>\n",
       "    </tr>\n",
       "  </thead>\n",
       "  <tbody>\n",
       "    <tr>\n",
       "      <th>45983</th>\n",
       "      <td>2019-02-26 14:22:00</td>\n",
       "      <td>https://ria.ru/20190226/1551377894.html</td>\n",
       "      <td>ria.ru</td>\n",
       "      <td>Общество</td>\n",
       "      <td>NaN</td>\n",
       "      <td>Самый красивый трамвайный маршрут России</td>\n",
       "      <td>NaN</td>\n",
       "      <td>-</td>\n",
       "      <td>-</td>\n",
       "      <td>-</td>\n",
       "      <td>-</td>\n",
       "      <td>-</td>\n",
       "      <td>-</td>\n",
       "      <td>3</td>\n",
       "      <td>1140</td>\n",
       "      <td>-</td>\n",
       "    </tr>\n",
       "    <tr>\n",
       "      <th>97961</th>\n",
       "      <td>2019-07-29 16:15:00</td>\n",
       "      <td>https://ria.ru/20190729/1556918528.html</td>\n",
       "      <td>ria.ru</td>\n",
       "      <td>Безопасность</td>\n",
       "      <td>NaN</td>\n",
       "      <td>Крылья России. Самолёты ОКБ Сухого</td>\n",
       "      <td>NaN</td>\n",
       "      <td>-</td>\n",
       "      <td>-</td>\n",
       "      <td>-</td>\n",
       "      <td>-</td>\n",
       "      <td>-</td>\n",
       "      <td>-</td>\n",
       "      <td>43</td>\n",
       "      <td>1383</td>\n",
       "      <td>-</td>\n",
       "    </tr>\n",
       "  </tbody>\n",
       "</table>\n",
       "</div>"
      ],
      "text/plain": [
       "                     date                                      url edition  \\\n",
       "45983 2019-02-26 14:22:00  https://ria.ru/20190226/1551377894.html  ria.ru   \n",
       "97961 2019-07-29 16:15:00  https://ria.ru/20190729/1556918528.html  ria.ru   \n",
       "\n",
       "             topics  authors                                     title text  \\\n",
       "45983      Общество      NaN  Самый красивый трамвайный маршрут России  NaN   \n",
       "97961  Безопасность      NaN        Крылья России. Самолёты ОКБ Сухого  NaN   \n",
       "\n",
       "      reposts_fb reposts_vk reposts_ok reposts_twi reposts_lj reposts_tg  \\\n",
       "45983          -          -          -           -          -          -   \n",
       "97961          -          -          -           -          -          -   \n",
       "\n",
       "       likes  views comm_count  \n",
       "45983      3   1140          -  \n",
       "97961     43   1383          -  "
      ]
     },
     "execution_count": 223,
     "metadata": {},
     "output_type": "execute_result"
    }
   ],
   "source": [
    "print('Кол-во строк с значением NaN в столбце \"Text\" = ', data_ria['text'].isnull().sum())\n",
    "data_ria[data_ria['text'].isnull()]"
   ]
  },
  {
   "cell_type": "code",
   "execution_count": 224,
   "metadata": {},
   "outputs": [],
   "source": [
    "#Всего две новости, удалим эти строки\n",
    "data_ria['text'].dropna(inplace=True)"
   ]
  },
  {
   "cell_type": "code",
   "execution_count": 225,
   "metadata": {},
   "outputs": [
    {
     "name": "stdout",
     "output_type": "stream",
     "text": [
      "Кол-во строк с значением NaN в столбце \"Text\" =  0\n"
     ]
    }
   ],
   "source": [
    "print('Кол-во строк с значением NaN в столбце \"Text\" = ', data_ria['text'].isnull().sum())"
   ]
  },
  {
   "cell_type": "markdown",
   "metadata": {},
   "source": [
    "Посмотрим сколько элементов Nan в столбце авторов"
   ]
  },
  {
   "cell_type": "code",
   "execution_count": 226,
   "metadata": {},
   "outputs": [
    {
     "name": "stdout",
     "output_type": "stream",
     "text": [
      "Кол-во строк с значением NaN в столбце \"authors\" =  101543\n"
     ]
    }
   ],
   "source": [
    "print('Кол-во строк с значением NaN в столбце \"authors\" = ', data_ria['authors'].isnull().sum())"
   ]
  },
  {
   "cell_type": "markdown",
   "metadata": {},
   "source": [
    "Как видим все значения авторов Nan. Можно не использовать данные столбец"
   ]
  },
  {
   "cell_type": "markdown",
   "metadata": {},
   "source": [
    "Посмотрим, что в столбцах, которые содержат дефис, как обозначение пустых данных"
   ]
  },
  {
   "cell_type": "code",
   "execution_count": 227,
   "metadata": {},
   "outputs": [
    {
     "name": "stdout",
     "output_type": "stream",
     "text": [
      "edition:  ['ria.ru']\n",
      "reposts_fb:  ['-']\n",
      "reposts_vk:  ['-']\n",
      "reposts_ok:  ['-']\n",
      "reposts_twi:  ['-']\n",
      "reposts_lj:  ['-']\n",
      "reposts_tg:  ['-']\n",
      "likes:  [    0     1     2     3    14    63    19     5    16   151     6    11\n",
      "     4    29    13   184     8     7    10    30    28    18   108    95\n",
      "   239    36    24   333   257    51    39     9    88    77    27    46\n",
      "    12    70    23    22    34    67   100   421   256   381   318    33\n",
      "    55   141    32   189    64    15   619    45    20   165    54   646\n",
      "    82   160    81   250   216    17    50    31    47   161   366    75\n",
      "   114    25   245   434    53    21   392   109   628   674   835   133\n",
      "   402    43    59    52    26   113   219   474    74   289    83   397\n",
      "   375    68   315    56   564   128   356    80    49   106   195  1043\n",
      "   111    94    73   755   238   470    84    69   607   115   139    57\n",
      "   145    62    35   155    44    37    60    79   263    71   362   104\n",
      "    42   231    58  1502    99  1971   188   267   667   118    89   187\n",
      "   183    38   228   121   181   192   142   101    41   408    90   148\n",
      "   191   979    85   678    40   159  1733    65   107   716   119   253\n",
      "   729   653  1196   150   472    48   112   266   176   287  1103   761\n",
      "   427   349  1166   327   280   179   131   190   527   662   103    97\n",
      "   170   900   941  1472   225   132   138   122   269   535   168   136\n",
      "   229  1573    66   236   365    61   173   147   719   157   807   468\n",
      "   412    72   420   197   805   403  1009   794   871   237   410   243\n",
      "  1264   116   615   135   829    87  1068    86   252   129   217   348\n",
      "   212  1216   616   186   283   411   110   295   659   210   433   449\n",
      "   117  1105   102   451   254   258   424   120    93   177 57186   304\n",
      "   149   606   550   194   204   768   234  1025   222   172   272   275\n",
      "   386   262  1334    92  1084   513    98   556   775   473   407   447\n",
      "    76   916   320   286   352   416   342   205   125   153  1482   510\n",
      "   271   130   171   164   714   614   603   445  1106   213   326   240\n",
      "   481   822   232   297   162   321   309   868   290   124   525   454\n",
      "   282    96   298   261   849  1428  1057   126  1916   498   475   143\n",
      "   299   961   207   175    78   331   389   276   292   209    91   602\n",
      "   180   823   249   345   339   347   956   741  1199   798   134   284\n",
      "   519   221   567   589   311   105   218   460  1096   323   152   268\n",
      "   200   264   338   368   154   288   522   512   360   808  1341  1448\n",
      "   137   144   251   390   163   730   544   246   193   501   208   506\n",
      "   697   484  2241   526   593   641   312   343   201   494   242   802\n",
      "   480   537   178   156  1194   226   198   233   623   361  1208   167\n",
      "   244   313   334   353   374   325   310   340   405   401   305   680\n",
      "   488   548   369   609  1764   355   319   372   146   400   608   516\n",
      "   206   277   448   744   432   884  1690   341   140   388   367   515\n",
      "   776   203   302   306  1195   385   227   223   721   123  1728   863\n",
      "   281   604   431   590   344   317   655   819   384   127   324  1094\n",
      "   618  1020   404   464   495    -1   595   332   182   316   493  1090\n",
      "   270  2908   247   843  1042   452   483   446   419   465   174  1886\n",
      "  1424   279   456   429   330   199   379   683   418   690  1365   337\n",
      "   613   382   453   879   461   540   839  1150   817   291  1295   314\n",
      "  1087   946   395   610   215  1887   296   694   750   702   235   880\n",
      "   440   214  1206   479   308   413  1964   335   546   584   772   439\n",
      "   477   259   364   459   443  1364   509   734   354   394   274   378\n",
      "   591   458   467   422   396   696  1244   301   541   463   303   563\n",
      "   359  1093   536   718   391   371   883   336   220   569   503   202\n",
      "   746   307   523   169   376  1401   329   520   796   496   502  1085\n",
      "  2809  1007   185   196  1275  1730   815   158   636   561   351   617\n",
      "   852   577   874   507   417   715   671  1533   803   224   265   695\n",
      "   398   565   559  2471   652   740  2099   504   773   658   278   363\n",
      "   524   533   625   876   598   579  1287   891  1462   497   570   285\n",
      "   783   491   821   634   294   444   230   791   627  1241   856   710\n",
      "   725   635   767   542   948  1220   489   887  2258  2423  1111   578\n",
      "   932  1210   255  2492   490   438   699   547   963   241  1403   573\n",
      "   809   643   752   552  1134   406  1453   629   300   757   414   816\n",
      "   684   568  1827  1676   995  3134   919   728  1091  1112  2315   592\n",
      "   864  1073   877   482   383   350   387   554  1081   471   442   322\n",
      "   528   545   751  1041  1736  1224   907   801  1051   521   166   430\n",
      "  1236   370   437   211  3592  1352   485   530   707   902   679   508\n",
      "  1710   393   836  1478  2408  1062   426   758   586   759   675   517\n",
      "   656   373   505  1045   722  1332   626   346   949   558   947   357\n",
      "   990  1024   770  1033   779   435  1653   769  1202   781  2075   666\n",
      "   549   637   700   657   583   466  1384  1272  2044   572   840  1231\n",
      "  1002  2230   441   293  1131   753   983   669   938   582   955  1380\n",
      "   762  1933   760   492  3114   731  1191   968  1089   260   790   612\n",
      "  1628  2252  1291   998   920  1005   631   380  1552  1171   774   538\n",
      "  1409   457  1318  1865   988   763  1363   620  1320   534   248  1949\n",
      "   543  1449   511   486  4118  1098  3155   450  1340   709   328  1136\n",
      "  2073   566   571   738  2312  1255  1035  1943   708   455  1823  1594\n",
      "  1110   557   806   575   830   985   991   673   647  1032   899   853\n",
      "  1418   648   273  1715   912   415  1545  1153  3779  1376   986  1232\n",
      "  1351   913   670  1329   531  1582  1571   704   739   436  1447   789\n",
      "  3036   587   854  1133  1230  1314   539   654   621   551   703   834\n",
      "   425   597   399   701   800  1670  1617   560   574  1600   377   668\n",
      "  1814  1280  1207   605   766  1072  1901   632  2613   358   831   676\n",
      "  1014  1608  1160  1266   691   409  2068  1189   423   970  1204  2568\n",
      "  1883   649   711  1298   764   787  1398  2136  2320   487   838  5606\n",
      "  1567   732  1636  1066  1154  1201  1607   663  1456  1069  1029   931]\n",
      "views:  [    70    177    919 ...  16996 361407   9490]\n",
      "comm_count:  ['-']\n"
     ]
    }
   ],
   "source": [
    "print('edition: ',data_ria['edition'].unique())\n",
    "print('reposts_fb: ', data_ria['reposts_fb'].unique())\n",
    "print('reposts_vk: ',data_ria['reposts_vk'].unique())\n",
    "print('reposts_ok: ',data_ria['reposts_ok'].unique())\n",
    "print('reposts_twi: ',data_ria['reposts_twi'].unique())\n",
    "print('reposts_lj: ',data_ria['reposts_lj'].unique())\n",
    "print('reposts_tg: ',data_ria['reposts_tg'].unique())\n",
    "print('likes: ',data_ria['likes'].unique())\n",
    "print('views: ',data_ria['views'].unique())\n",
    "print('comm_count: ',data_ria['comm_count'].unique())"
   ]
  },
  {
   "cell_type": "markdown",
   "metadata": {},
   "source": [
    "В edition, likes и views данные есть, остальные можно удалять"
   ]
  },
  {
   "cell_type": "code",
   "execution_count": null,
   "metadata": {},
   "outputs": [],
   "source": []
  },
  {
   "cell_type": "markdown",
   "metadata": {},
   "source": [
    "### Рубрики Ria"
   ]
  },
  {
   "cell_type": "code",
   "execution_count": 228,
   "metadata": {},
   "outputs": [
    {
     "name": "stdout",
     "output_type": "stream",
     "text": [
      "Количество рубрик =  (1120,)\n"
     ]
    },
    {
     "data": {
      "text/plain": [
       "array(['Происшествия', 'В мире', 'Экономика', ...,\n",
       "       'ЧП на военном складе в Красноярском крае', 'Лиссабон (город)',\n",
       "       'The Guardian'], dtype=object)"
      ]
     },
     "execution_count": 228,
     "metadata": {},
     "output_type": "execute_result"
    }
   ],
   "source": [
    "# Считаем количество рубрик в датасете Ria, а также выведем значения\n",
    "print('Количество рубрик = ', data_ria.topics.unique().shape)\n",
    "data_ria['topics'].unique()"
   ]
  },
  {
   "cell_type": "code",
   "execution_count": 229,
   "metadata": {},
   "outputs": [
    {
     "data": {
      "text/plain": [
       "topics\n",
       "2 февраля - день сурка      1\n",
       "BAFTA                       1\n",
       "BBC                         8\n",
       "Cirque du Soleil            1\n",
       "Comedy Club Production      1\n",
       "                         ... \n",
       "пассажиры                   1\n",
       "психология                  1\n",
       "религия                   192\n",
       "самолеты                    2\n",
       "туристы                    21\n",
       "Name: topics, Length: 1120, dtype: int64"
      ]
     },
     "execution_count": 229,
     "metadata": {},
     "output_type": "execute_result"
    }
   ],
   "source": [
    "data_ria.groupby('topics')['topics'].count()"
   ]
  },
  {
   "cell_type": "code",
   "execution_count": null,
   "metadata": {},
   "outputs": [],
   "source": []
  },
  {
   "cell_type": "markdown",
   "metadata": {},
   "source": [
    "Тут надо разбираться, все ли рубрики нам нужны"
   ]
  },
  {
   "cell_type": "code",
   "execution_count": null,
   "metadata": {},
   "outputs": [],
   "source": []
  },
  {
   "cell_type": "code",
   "execution_count": null,
   "metadata": {},
   "outputs": [],
   "source": []
  },
  {
   "cell_type": "code",
   "execution_count": null,
   "metadata": {},
   "outputs": [],
   "source": []
  },
  {
   "cell_type": "code",
   "execution_count": null,
   "metadata": {},
   "outputs": [],
   "source": []
  },
  {
   "cell_type": "code",
   "execution_count": null,
   "metadata": {},
   "outputs": [],
   "source": []
  },
  {
   "cell_type": "code",
   "execution_count": null,
   "metadata": {},
   "outputs": [],
   "source": []
  },
  {
   "cell_type": "code",
   "execution_count": null,
   "metadata": {},
   "outputs": [],
   "source": []
  },
  {
   "cell_type": "code",
   "execution_count": null,
   "metadata": {},
   "outputs": [],
   "source": []
  }
 ],
 "metadata": {
  "kernelspec": {
   "display_name": "Python 3",
   "language": "python",
   "name": "python3"
  },
  "language_info": {
   "codemirror_mode": {
    "name": "ipython",
    "version": 3
   },
   "file_extension": ".py",
   "mimetype": "text/x-python",
   "name": "python",
   "nbconvert_exporter": "python",
   "pygments_lexer": "ipython3",
   "version": "3.7.4"
  }
 },
 "nbformat": 4,
 "nbformat_minor": 2
}
